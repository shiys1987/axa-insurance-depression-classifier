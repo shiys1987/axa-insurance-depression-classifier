{
 "cells": [
  {
   "cell_type": "code",
   "execution_count": 117,
   "metadata": {},
   "outputs": [],
   "source": [
    "import numpy as np\n",
    "import pandas as pd\n",
    "import seaborn as sns\n",
    "\n",
    "from constant import data_path, data_dtypes, target_var, all_categorical_cols, all_numerical_cols, categorical_col_feature_values\n",
    "from sklearn.compose import ColumnTransformer\n",
    "from sklearn.pipeline import Pipeline\n",
    "from sklearn.preprocessing import OrdinalEncoder, StandardScaler, LabelEncoder\n",
    "from sklearn.feature_selection import SelectKBest, mutual_info_classif\n",
    "from sklearn.model_selection import train_test_split, GridSearchCV\n",
    "from sklearn.dummy import DummyClassifier\n",
    "from sklearn.ensemble import RandomForestClassifier\n",
    "from sklearn.linear_model import LogisticRegression\n",
    "from sklearn.metrics import accuracy_score, classification_report, roc_auc_score\n",
    "from utils import pickle_save, pickle_load\n",
    "\n",
    "# option to only load pre trained models, and selection of features used for modelling\n",
    "load_pre_trained = True\n",
    "save_new_experiment = False"
   ]
  },
  {
   "cell_type": "markdown",
   "metadata": {},
   "source": [
    "## Data Loader and preprocessing"
   ]
  },
  {
   "cell_type": "code",
   "execution_count": null,
   "metadata": {},
   "outputs": [],
   "source": [
    "\n",
    "df = pd.read_csv(data_path, dtype=data_dtypes).set_index(\"Name\")\n",
    "\n",
    "X, y = df.drop(target_var, axis=1), df[target_var]\n",
    "\n",
    "# split the training set and test set with stratify for imbalanced target\n",
    "X_train, X_test, y_train, y_test = train_test_split(X, y, test_size=0.3, random_state=42, stratify=y)\n",
    "\n",
    "# preprocessing on target variable for training and test sets\n",
    "le = LabelEncoder()\n",
    "le.fit(y_train)\n",
    "preprocessed_y_train = le.transform(y_train)\n",
    "preprocessed_y_test = le.transform(y_test)\n",
    "\n",
    "# preprocessing on numerical and categorical columns for training and test sets\n",
    "preprocessor = ColumnTransformer(\n",
    "    transformers=[\n",
    "        (\"numerical_features_standard_scaler\", Pipeline(steps=[(\"numerical_features_standard_scaler\", StandardScaler())]), all_numerical_cols),\n",
    "        (\"ordinal_encoder_with_mapping\", Pipeline(steps=[(\"ordinal_encoder_with_mapping\", OrdinalEncoder(categories=categorical_col_feature_values, dtype=int))]), all_categorical_cols)\n",
    "    ]\n",
    ")\n",
    "\n",
    "preprocessed_X_train = X_train.copy()\n",
    "preprocessed_X_train[all_numerical_cols + all_categorical_cols] = preprocessor.fit_transform(X_train)\n",
    "\n",
    "preprocessed_X_test = X_test.copy()\n",
    "preprocessed_X_test[all_numerical_cols + all_categorical_cols] = preprocessor.transform(X_test)"
   ]
  },
  {
   "cell_type": "code",
   "execution_count": null,
   "metadata": {},
   "outputs": [],
   "source": [
    "# starting point of selecting features starts from a shortlist after chi-squared test done in EDA notebook, \n",
    "# contains first occurance of the categorical feature groups, and all numerical features\n",
    "selected_features = [\"Alcohol Consumption\", \"Physical Activity Level\", \"History of Substance Abuse\", \"Education Level\", \"Employment Status\", \"Income\", \"Age\", \"Number of Children\"]\n",
    "# selected_features_kfold = ['Alcohol Consumption', 'Physical Activity Level',\n",
    "#        'Employment Status', 'Income', 'Number of Children']\n",
    "\n",
    "if load_pre_trained == False:\n",
    "    # use select kbest method to find top 5 features\n",
    "    selector = SelectKBest(score_func=mutual_info_classif, k=5) \n",
    "    selector.fit(preprocessed_X_train[selected_features], preprocessed_y_train)\n",
    "    if save_new_experiment == True:\n",
    "        pickle_save(file_path=\"../output/feature_selector.pkl\", pickle_obj=selector)\n",
    "else:\n",
    "    selector = pickle_load(file_path=\"../output/feature_selector.pkl\")\n",
    "\n",
    "selected_features_kfold = selector.get_feature_names_out()"
   ]
  },
  {
   "cell_type": "markdown",
   "metadata": {},
   "source": [
    "## Fitting binary classification models\n",
    "\n",
    "After all data preprocessing, three models are fitted, with one baseline model (simple model), Logistic Regression and Random Forest classifier. Hyperparameter tuning are done with grid search, based on a selections ranges of parameters, due to limit of training time. It is noted that hyperparameter tunning for RF classifier can take a while. The best models (LR and RF) are saved in `output` folder, as pickle file, it can be easily loaded if required."
   ]
  },
  {
   "cell_type": "code",
   "execution_count": null,
   "metadata": {},
   "outputs": [
    {
     "name": "stdout",
     "output_type": "stream",
     "text": [
      "Accuracy: 0.6959019100788683\n",
      "ROC AUC score: 0.5\n",
      "              precision    recall  f1-score   support\n",
      "\n",
      "          No       0.70      1.00      0.82     86383\n",
      "         Yes       0.00      0.00      0.00     37748\n",
      "\n",
      "    accuracy                           0.70    124131\n",
      "   macro avg       0.35      0.50      0.41    124131\n",
      "weighted avg       0.48      0.70      0.57    124131\n",
      "\n"
     ]
    },
    {
     "name": "stderr",
     "output_type": "stream",
     "text": [
      "c:\\Users\\Yanshan Shi\\.conda\\envs\\axa-depression-classifier\\Lib\\site-packages\\sklearn\\metrics\\_classification.py:1565: UndefinedMetricWarning: Precision is ill-defined and being set to 0.0 in labels with no predicted samples. Use `zero_division` parameter to control this behavior.\n",
      "  _warn_prf(average, modifier, f\"{metric.capitalize()} is\", len(result))\n",
      "c:\\Users\\Yanshan Shi\\.conda\\envs\\axa-depression-classifier\\Lib\\site-packages\\sklearn\\metrics\\_classification.py:1565: UndefinedMetricWarning: Precision is ill-defined and being set to 0.0 in labels with no predicted samples. Use `zero_division` parameter to control this behavior.\n",
      "  _warn_prf(average, modifier, f\"{metric.capitalize()} is\", len(result))\n",
      "c:\\Users\\Yanshan Shi\\.conda\\envs\\axa-depression-classifier\\Lib\\site-packages\\sklearn\\metrics\\_classification.py:1565: UndefinedMetricWarning: Precision is ill-defined and being set to 0.0 in labels with no predicted samples. Use `zero_division` parameter to control this behavior.\n",
      "  _warn_prf(average, modifier, f\"{metric.capitalize()} is\", len(result))\n"
     ]
    }
   ],
   "source": [
    "# Baseline dummy model\n",
    "dummy_model = DummyClassifier(strategy=\"most_frequent\")\n",
    "dummy_model.fit(preprocessed_X_train, preprocessed_y_train)\n",
    "\n",
    "dummy_y_pred = dummy_model.predict(preprocessed_X_test)\n",
    "print(f\"Accuracy: {accuracy_score(preprocessed_y_test, dummy_y_pred)}\")\n",
    "print(f\"ROC AUC score: {roc_auc_score(preprocessed_y_test, dummy_y_pred)}\")\n",
    "print(classification_report(preprocessed_y_test, dummy_y_pred, target_names=le.classes_))"
   ]
  },
  {
   "cell_type": "code",
   "execution_count": null,
   "metadata": {},
   "outputs": [
    {
     "name": "stdout",
     "output_type": "stream",
     "text": [
      "Fitting 3 folds for each of 160 candidates, totalling 480 fits\n",
      "Accuracy: 0.6157124328330554\n",
      "ROC AUC score: 0.5708856953743726\n",
      "              precision    recall  f1-score   support\n",
      "\n",
      "          No       0.74      0.69      0.71     86383\n",
      "         Yes       0.39      0.46      0.42     37748\n",
      "\n",
      "    accuracy                           0.62    124131\n",
      "   macro avg       0.57      0.57      0.57    124131\n",
      "weighted avg       0.63      0.62      0.62    124131\n",
      "\n"
     ]
    },
    {
     "name": "stderr",
     "output_type": "stream",
     "text": [
      "c:\\Users\\Yanshan Shi\\.conda\\envs\\axa-depression-classifier\\Lib\\site-packages\\sklearn\\linear_model\\_logistic.py:1207: UserWarning: Setting penalty=None will ignore the C and l1_ratio parameters\n",
      "  warnings.warn(\n"
     ]
    }
   ],
   "source": [
    "# Hyper parameter tunning on Logistic Regression\n",
    "lr_param_grid = [    \n",
    "    {\"penalty\" : [\"l2\", None],\n",
    "    \"C\" : np.logspace(-4, 4, 10),\n",
    "    \"solver\" : [\"lbfgs\", \"newton-cg\"],\n",
    "    \"max_iter\" : [100, 1000, 3000, 5000]\n",
    "    }\n",
    "]\n",
    "\n",
    "if load_pre_trained == False:\n",
    "    model = LogisticRegression(class_weight=\"balanced\")\n",
    "\n",
    "    lr_grid_search = GridSearchCV(model, param_grid=lr_param_grid, cv=3, verbose=True, n_jobs=-1)\n",
    "\n",
    "    best_lr_model = lr_grid_search.fit(preprocessed_X_train[selected_features_kfold], preprocessed_y_train)\n",
    "    if save_new_experiment == True:\n",
    "        pickle_save(file_path=\"../output/lr_classifier.pkl\", pickle_obj=best_lr_model)\n",
    "else:\n",
    "    best_lr_model = pickle_load(file_path=\"../output/lr_classifier.pkl\")\n",
    "\n",
    "y_pred = best_lr_model.best_estimator_.predict(preprocessed_X_test[selected_features_kfold])\n",
    "print(f\"Accuracy: {accuracy_score(preprocessed_y_test, y_pred)}\")\n",
    "print(f\"ROC AUC score: {roc_auc_score(preprocessed_y_test, y_pred)}\")\n",
    "print(classification_report(preprocessed_y_test, y_pred, target_names=le.classes_))"
   ]
  },
  {
   "cell_type": "code",
   "execution_count": null,
   "metadata": {},
   "outputs": [],
   "source": [
    "\n"
   ]
  },
  {
   "cell_type": "code",
   "execution_count": null,
   "metadata": {},
   "outputs": [
    {
     "name": "stdout",
     "output_type": "stream",
     "text": [
      "Fitting 3 folds for each of 72 candidates, totalling 216 fits\n"
     ]
    },
    {
     "name": "stderr",
     "output_type": "stream",
     "text": [
      "c:\\Users\\Yanshan Shi\\.conda\\envs\\axa-depression-classifier\\Lib\\site-packages\\sklearn\\model_selection\\_validation.py:528: FitFailedWarning: \n",
      "162 fits failed out of a total of 216.\n",
      "The score on these train-test partitions for these parameters will be set to nan.\n",
      "If these failures are not expected, you can try to debug them by setting error_score='raise'.\n",
      "\n",
      "Below are more details about the failures:\n",
      "--------------------------------------------------------------------------------\n",
      "18 fits failed with the following error:\n",
      "Traceback (most recent call last):\n",
      "  File \"c:\\Users\\Yanshan Shi\\.conda\\envs\\axa-depression-classifier\\Lib\\site-packages\\sklearn\\model_selection\\_validation.py\", line 866, in _fit_and_score\n",
      "    estimator.fit(X_train, y_train, **fit_params)\n",
      "  File \"c:\\Users\\Yanshan Shi\\.conda\\envs\\axa-depression-classifier\\Lib\\site-packages\\sklearn\\base.py\", line 1382, in wrapper\n",
      "    estimator._validate_params()\n",
      "  File \"c:\\Users\\Yanshan Shi\\.conda\\envs\\axa-depression-classifier\\Lib\\site-packages\\sklearn\\base.py\", line 436, in _validate_params\n",
      "    validate_parameter_constraints(\n",
      "  File \"c:\\Users\\Yanshan Shi\\.conda\\envs\\axa-depression-classifier\\Lib\\site-packages\\sklearn\\utils\\_param_validation.py\", line 98, in validate_parameter_constraints\n",
      "    raise InvalidParameterError(\n",
      "sklearn.utils._param_validation.InvalidParameterError: The 'max_features' parameter of RandomForestClassifier must be an int in the range [1, inf), a float in the range (0.0, 1.0], a str among {'sqrt', 'log2'} or None. Got 'auto' instead.\n",
      "\n",
      "--------------------------------------------------------------------------------\n",
      "90 fits failed with the following error:\n",
      "Traceback (most recent call last):\n",
      "  File \"c:\\Users\\Yanshan Shi\\.conda\\envs\\axa-depression-classifier\\Lib\\site-packages\\sklearn\\model_selection\\_validation.py\", line 866, in _fit_and_score\n",
      "    estimator.fit(X_train, y_train, **fit_params)\n",
      "  File \"c:\\Users\\Yanshan Shi\\.conda\\envs\\axa-depression-classifier\\Lib\\site-packages\\sklearn\\base.py\", line 1382, in wrapper\n",
      "    estimator._validate_params()\n",
      "  File \"c:\\Users\\Yanshan Shi\\.conda\\envs\\axa-depression-classifier\\Lib\\site-packages\\sklearn\\base.py\", line 436, in _validate_params\n",
      "    validate_parameter_constraints(\n",
      "  File \"c:\\Users\\Yanshan Shi\\.conda\\envs\\axa-depression-classifier\\Lib\\site-packages\\sklearn\\utils\\_param_validation.py\", line 98, in validate_parameter_constraints\n",
      "    raise InvalidParameterError(\n",
      "sklearn.utils._param_validation.InvalidParameterError: The 'max_features' parameter of RandomForestClassifier must be an int in the range [1, inf), a float in the range (0.0, 1.0], a str among {'log2', 'sqrt'} or None. Got 'auto' instead.\n",
      "\n",
      "--------------------------------------------------------------------------------\n",
      "54 fits failed with the following error:\n",
      "Traceback (most recent call last):\n",
      "  File \"c:\\Users\\Yanshan Shi\\.conda\\envs\\axa-depression-classifier\\Lib\\site-packages\\sklearn\\model_selection\\_validation.py\", line 866, in _fit_and_score\n",
      "    estimator.fit(X_train, y_train, **fit_params)\n",
      "  File \"c:\\Users\\Yanshan Shi\\.conda\\envs\\axa-depression-classifier\\Lib\\site-packages\\sklearn\\base.py\", line 1382, in wrapper\n",
      "    estimator._validate_params()\n",
      "  File \"c:\\Users\\Yanshan Shi\\.conda\\envs\\axa-depression-classifier\\Lib\\site-packages\\sklearn\\base.py\", line 436, in _validate_params\n",
      "    validate_parameter_constraints(\n",
      "  File \"c:\\Users\\Yanshan Shi\\.conda\\envs\\axa-depression-classifier\\Lib\\site-packages\\sklearn\\utils\\_param_validation.py\", line 98, in validate_parameter_constraints\n",
      "    raise InvalidParameterError(\n",
      "sklearn.utils._param_validation.InvalidParameterError: The 'min_samples_split' parameter of RandomForestClassifier must be an int in the range [2, inf) or a float in the range (0.0, 1.0]. Got 1 instead.\n",
      "\n",
      "  warnings.warn(some_fits_failed_message, FitFailedWarning)\n",
      "c:\\Users\\Yanshan Shi\\.conda\\envs\\axa-depression-classifier\\Lib\\site-packages\\sklearn\\model_selection\\_search.py:1108: UserWarning: One or more of the test scores are non-finite: [       nan        nan        nan        nan        nan        nan\n",
      "        nan        nan        nan        nan        nan        nan\n",
      "        nan        nan        nan 0.58452823 0.58545353 0.58526364\n",
      "        nan        nan        nan 0.58274324 0.58383426 0.58359949\n",
      "        nan        nan        nan        nan        nan        nan\n",
      "        nan        nan        nan        nan        nan        nan\n",
      "        nan        nan        nan 0.58386877 0.5844419  0.58440737\n",
      "        nan        nan        nan 0.56773478 0.56844602 0.56803861\n",
      "        nan        nan        nan        nan        nan        nan\n",
      "        nan        nan        nan        nan        nan        nan\n",
      "        nan        nan        nan 0.58392056 0.5844488  0.58441428\n",
      "        nan        nan        nan 0.56770026 0.56840804 0.56803171]\n",
      "  warnings.warn(\n"
     ]
    }
   ],
   "source": [
    "\n",
    "# Hyper parameter tunning on Random Forest Classifier\n",
    "rf_random_grid = {\n",
    "    'n_estimators': [100, 1000, 2000],\n",
    "    'max_features': [\"auto\", \"sqrt\"],\n",
    "    'max_depth': [10, 60, 120],\n",
    "    'min_samples_split': [1, 10],\n",
    "    'min_samples_leaf': [1, 10],\n",
    "    }\n",
    "\n",
    "if load_pre_trained == False:\n",
    "    rf_model = RandomForestClassifier(class_weight=\"balanced\", random_state=42)\n",
    "\n",
    "    rf_grid_search = GridSearchCV(rf_model, param_grid=rf_random_grid, cv=3, verbose=True, n_jobs=-1)\n",
    "\n",
    "    best_rf_model = rf_grid_search.fit(preprocessed_X_train[selected_features_kfold], preprocessed_y_train)\n",
    "    if save_new_experiment == True:\n",
    "        pickle_save(file_path=\"../output/rf_classifier.pkl\", pickle_obj=best_rf_model)\n",
    "else:\n",
    "    best_rf_model = pickle_load(file_path=\"../output/rf_classifier.pkl\")"
   ]
  },
  {
   "cell_type": "code",
   "execution_count": null,
   "metadata": {},
   "outputs": [
    {
     "name": "stdout",
     "output_type": "stream",
     "text": [
      "Accuracy: 0.588467022742103\n",
      "ROC AUC score: 0.5702746568654683\n",
      "              precision    recall  f1-score   support\n",
      "\n",
      "          No       0.75      0.62      0.68     86383\n",
      "         Yes       0.37      0.52      0.44     37748\n",
      "\n",
      "    accuracy                           0.59    124131\n",
      "   macro avg       0.56      0.57      0.56    124131\n",
      "weighted avg       0.63      0.59      0.60    124131\n",
      "\n"
     ]
    }
   ],
   "source": [
    "\n",
    "y_pred2 = best_rf_model.best_estimator_.predict(preprocessed_X_test[selected_features_kfold])\n",
    "print(f\"Accuracy: {accuracy_score(preprocessed_y_test, y_pred2)}\")\n",
    "print(f\"ROC AUC score: {roc_auc_score(preprocessed_y_test, y_pred2)}\")\n",
    "print(classification_report(preprocessed_y_test, y_pred2, target_names=le.classes_))"
   ]
  },
  {
   "cell_type": "markdown",
   "metadata": {},
   "source": [
    "## Assessing performance of the models\n",
    "\n",
    "The metrics of the binary classification models are calculated. To compare with different models, metrics listed below will be used:\n",
    "\n",
    "* Accuracy\n",
    "* ROC-AUC score\n",
    "* Precision\n",
    "* Recall\n",
    "* F1"
   ]
  },
  {
   "cell_type": "code",
   "execution_count": null,
   "metadata": {},
   "outputs": [
    {
     "name": "stderr",
     "output_type": "stream",
     "text": [
      "c:\\Users\\Yanshan Shi\\.conda\\envs\\axa-depression-classifier\\Lib\\site-packages\\sklearn\\metrics\\_classification.py:1565: UndefinedMetricWarning: Precision is ill-defined and being set to 0.0 in labels with no predicted samples. Use `zero_division` parameter to control this behavior.\n",
      "  _warn_prf(average, modifier, f\"{metric.capitalize()} is\", len(result))\n",
      "c:\\Users\\Yanshan Shi\\.conda\\envs\\axa-depression-classifier\\Lib\\site-packages\\sklearn\\metrics\\_classification.py:1565: UndefinedMetricWarning: Precision is ill-defined and being set to 0.0 in labels with no predicted samples. Use `zero_division` parameter to control this behavior.\n",
      "  _warn_prf(average, modifier, f\"{metric.capitalize()} is\", len(result))\n",
      "c:\\Users\\Yanshan Shi\\.conda\\envs\\axa-depression-classifier\\Lib\\site-packages\\sklearn\\metrics\\_classification.py:1565: UndefinedMetricWarning: Precision is ill-defined and being set to 0.0 in labels with no predicted samples. Use `zero_division` parameter to control this behavior.\n",
      "  _warn_prf(average, modifier, f\"{metric.capitalize()} is\", len(result))\n"
     ]
    }
   ],
   "source": [
    "baseline_classifier_performance = classification_report(preprocessed_y_test, dummy_y_pred, target_names=le.classes_, output_dict=True)\n",
    "baseline_classifier_performance[\"auc_roc\"] = roc_auc_score(preprocessed_y_test, dummy_y_pred)\n",
    "\n",
    "if load_pre_trained == False:\n",
    "    lr_classifier_performance = classification_report(preprocessed_y_test, y_pred, target_names=le.classes_, output_dict=True)\n",
    "    lr_classifier_performance[\"auc_roc\"] = roc_auc_score(preprocessed_y_test, y_pred)\n",
    "\n",
    "    rf_classifier_performance = classification_report(preprocessed_y_test, y_pred2, target_names=le.classes_, output_dict=True)\n",
    "    rf_classifier_performance[\"auc_roc\"] = roc_auc_score(preprocessed_y_test, y_pred2)\n",
    "\n",
    "    if save_new_experiment == True:\n",
    "        pickle_save(file_path=\"../output/lr_classifier_performance.pkl\", pickle_obj=lr_classifier_performance)\n",
    "        pickle_save(file_path=\"../output/rf_classifier_performance.pkl\", pickle_obj=rf_classifier_performance)\n",
    "\n",
    "else:\n",
    "    lr_classifier_performance = pickle_load(file_path=\"../output/lr_classifier_performance.pkl\")\n",
    "    rf_classifier_performance = pickle_load(file_path=\"../output/rf_classifier_performance.pkl\")"
   ]
  },
  {
   "cell_type": "code",
   "execution_count": 134,
   "metadata": {},
   "outputs": [],
   "source": [
    "overall_metrics = []\n",
    "\n",
    "for model_name, model_perf in [(\"baseline\", baseline_classifier_performance), (\"lr_classifier\", lr_classifier_performance), (\"rf_classifier\", rf_classifier_performance)]:\n",
    "    for one_metrics in [\"auc_roc\", \"accuracy\"]:\n",
    "        overall_metrics.append((model_name, one_metrics, model_perf[one_metrics]))\n",
    "\n",
    "overall_metrics = pd.DataFrame.from_records(overall_metrics, columns=[\"model_name\", \"metric\", \"value\"])\n",
    "\n",
    "class_specific_metrics = []\n",
    "for model_name, model_perf in [(\"baseline\", baseline_classifier_performance), (\"lr_classifier\", lr_classifier_performance), (\"rf_classifier\", rf_classifier_performance)]:\n",
    "    for one_class in [\"No\", \"Yes\"]:\n",
    "        for one_metrics in [\"precision\", \"recall\", \"f1-score\"]:\n",
    "            class_specific_metrics.append((model_name, one_class, one_metrics, model_perf[one_class][one_metrics]))\n",
    "\n",
    "class_specific_metrics = pd.DataFrame.from_records(class_specific_metrics, columns=[\"model_name\", \"class\", \"metric\", \"value\"])\n"
   ]
  },
  {
   "cell_type": "code",
   "execution_count": 180,
   "metadata": {},
   "outputs": [
    {
     "data": {
      "text/plain": [
       "<seaborn.axisgrid.FacetGrid at 0x196cb7be990>"
      ]
     },
     "execution_count": 180,
     "metadata": {},
     "output_type": "execute_result"
    },
    {
     "data": {
      "image/png": "[encoded data removed]",
      "text/plain": [
       "<Figure size 829.125x700 with 1 Axes>"
      ]
     },
     "metadata": {},
     "output_type": "display_data"
    }
   ],
   "source": [
    "sns.set_palette(palette=\"hls\")\n",
    "overall_g = sns.catplot(x=\"metric\", y=\"value\", hue=\"model_name\", data=overall_metrics, kind=\"bar\", height=7)\n",
    "overall_g.refline(y=0.5, color=\"red\").set(title=\"Overall binary classifier performance metrics\")\n"
   ]
  },
  {
   "cell_type": "code",
   "execution_count": 183,
   "metadata": {},
   "outputs": [
    {
     "name": "stderr",
     "output_type": "stream",
     "text": [
      "c:\\Users\\Yanshan Shi\\.conda\\envs\\axa-depression-classifier\\Lib\\site-packages\\seaborn\\axisgrid.py:854: FutureWarning: \n",
      "\n",
      "Setting a gradient palette using color= is deprecated and will be removed in v0.14.0. Set `palette='dark:#db5f57'` for the same effect.\n",
      "\n",
      "  func(*plot_args, **plot_kwargs)\n",
      "c:\\Users\\Yanshan Shi\\.conda\\envs\\axa-depression-classifier\\Lib\\site-packages\\seaborn\\axisgrid.py:854: FutureWarning: \n",
      "\n",
      "Setting a gradient palette using color= is deprecated and will be removed in v0.14.0. Set `palette='dark:#db5f57'` for the same effect.\n",
      "\n",
      "  func(*plot_args, **plot_kwargs)\n"
     ]
    },
    {
     "data": {
      "text/plain": [
       "<seaborn.axisgrid.FacetGrid at 0x196cce87d70>"
      ]
     },
     "execution_count": 183,
     "metadata": {},
     "output_type": "execute_result"
    },
    {
     "data": {
      "image/png": "[encoded data removed]",
      "text/plain": [
       "<Figure size 1529.12x700 with 2 Axes>"
      ]
     },
     "metadata": {},
     "output_type": "display_data"
    }
   ],
   "source": [
    "g = sns.FacetGrid(data=class_specific_metrics, col=\"class\", height=7, palette=\"hls\")\n",
    "g.map_dataframe(sns.barplot, x=\"metric\", y=\"value\", hue=\"model_name\")\n",
    "g.add_legend()\n"
   ]
  },
  {
   "cell_type": "markdown",
   "metadata": {},
   "source": [
    "## Summary\n",
    "This section containing answers for tech task questions.\n",
    "\n",
    "### Feature selection\n",
    "The starting point of selecting features, comes from a conclusion in EDA, to include all numerical columns, and selection of categorical columns (first occurance of the groups which has different distribution from barchats). Then selectKbest algorithm is applied on this short list to generate 5 features include 2 numerical columns and 3 categorical features. The categorical columns are transformed using ordinal encoder and the numerical columns are transformed with standard scaler since `Income` has very different scale compare to the rest.\n",
    "\n",
    "### Models of choice\n",
    "3 models are selected, with 1 baseline, a linear model (LR) and a bagging model (RF) for the experiments within this notebook. Hyper parameters are done using gridsearch with cross validation on 3 folds, searching from a selection of parameters grid, limiting them so that the running time is acceptable.\n",
    "\n",
    "### Assessment on Model performance and discussion on the current best models\n",
    "Looking at the metric calculated from trained models, it could concluded after hyper parameter tuning, Logistic Regression (LR) and Random Forest (RF) are better than the baseline model. It is the nature that the target variable is imbalanced, and the baseline classifier would condier all predictions as `No` because of this. Overall `accuracy` metrics would be misleading on the actual performance of the model, but `auc-roc score` shows both LR and RF can do slightly better jobs than baseline model.\n",
    "\n",
    "Looking at class specific metrics graph:\n",
    "* `No` class: since the baseline is strong, on `No` class, the recall is significantly higher than the other two models. `f1-score` is a balance between recall and precision, and overall the LR and RF cannot beat the baseline model for classify `No` class, even they have slightly better precision compare to the baseline model. \n",
    "* `Yes` class: baseline cannot provide any `Yes` prediction, LR and RF has similar precision, and RF has slightly better recall. Overall looking at `f1-score`, RF is slightly better than LR classifier.\n",
    "\n",
    "Overall, for the current experiment, it is concluded that in terms of performance, RF > LR > baseline. However, it takes longer to do hyper parameter tunning for RF model, LR model can still be good candidate as the performance are similar but it is generally much faster to train.\n",
    "\n",
    "### Future improvement\n",
    "\n",
    "The LR and RF model precision and recall is better than baseline, there are still rooms for improvements. Future research on different directions could lead to better performanced model:\n",
    "\n",
    "* Method for handling imbalanced target: could try undersampling method such as SMOTE, to reduce the size of training set with majority of the class\n",
    "* New model: boosting classifier (XGBoost, lightGBM etc.), neural networks, etc.\n",
    "* Feature selection: try new sets of features\n",
    "\n"
   ]
  }
 ],
 "metadata": {
  "kernelspec": {
   "display_name": "axa-depression-classifier",
   "language": "python",
   "name": "python3"
  },
  "language_info": {
   "codemirror_mode": {
    "name": "ipython",
    "version": 3
   },
   "file_extension": ".py",
   "mimetype": "text/x-python",
   "name": "python",
   "nbconvert_exporter": "python",
   "pygments_lexer": "ipython3",
   "version": "3.12.7"
  }
 },
 "nbformat": 4,
 "nbformat_minor": 2
}
